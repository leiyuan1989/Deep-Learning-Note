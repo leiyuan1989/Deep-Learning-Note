{
 "cells": [
  {
   "cell_type": "markdown",
   "metadata": {},
   "source": [
    "# Regular Expression\n",
    "\n",
    "This [page](https://www.cnblogs.com/huxi/archive/2010/07/04/1771073.html) explains regular expression quite clearly.\n",
    "The content below is from the page.\n",
    "![RE](./images/regular_expression1.png)\n",
    "\n"
   ]
  },
  {
   "cell_type": "code",
   "execution_count": 14,
   "metadata": {},
   "outputs": [
    {
     "name": "stdout",
     "output_type": "stream",
     "text": [
      "ex1: <re.Match object; span=(0, 3), match='abc'>\n",
      "ex1: None\n",
      "ex2: <re.Match object; span=(0, 4), match='1.75'>\n",
      "ex2: <re.Match object; span=(0, 9), match='10000.000'>\n",
      "ex2: None\n",
      "ex2: ['1.75']\n",
      "ex2: ['123123.1', '10000.000']\n",
      "ex2: ['1000.11']\n"
     ]
    }
   ],
   "source": [
    "import re\n",
    "\n",
    "#1 basic string\n",
    "pattern = re.compile(r'abc')\n",
    "match1 = pattern.match('abcdabc!')\n",
    "match2 = pattern.match('babc')\n",
    "print(\"ex1:\",match1)\n",
    "print(\"ex1:\",match2)\n",
    "\n",
    "#2 float \n",
    "pattern = re.compile(r\"\\d+\\.\\d*\")\n",
    "match1 = pattern.match('1.75')\n",
    "match2 = pattern.match('10000.000')\n",
    "match3 = pattern.match('1000')\n",
    "print(\"ex2:\",match1)\n",
    "print(\"ex2:\",match2)\n",
    "print(\"ex2:\",match3)\n",
    "\n",
    "#2 float \n",
    "pattern = re.compile(r\"\\d+\\.\\d*\")\n",
    "match1 = pattern.findall('a = 1.75')\n",
    "match2 = pattern.findall('123123.1  aa ddd 10000.000')\n",
    "match3 = pattern.findall('b = 1000.11')\n",
    "print(\"ex3:\",match1)\n",
    "print(\"ex3:\",match2)\n",
    "print(\"ex3:\",match3)\n"
   ]
  },
  {
   "cell_type": "code",
   "execution_count": null,
   "metadata": {},
   "outputs": [],
   "source": []
  }
 ],
 "metadata": {
  "kernelspec": {
   "display_name": "Python 3",
   "language": "python",
   "name": "python3"
  },
  "language_info": {
   "codemirror_mode": {
    "name": "ipython",
    "version": 3
   },
   "file_extension": ".py",
   "mimetype": "text/x-python",
   "name": "python",
   "nbconvert_exporter": "python",
   "pygments_lexer": "ipython3",
   "version": "3.7.1"
  }
 },
 "nbformat": 4,
 "nbformat_minor": 2
}
